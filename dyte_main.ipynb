{
  "cells": [
    {
      "cell_type": "raw",
      "metadata": {
        "id": "bNY3Npj6I9U3"
      },
      "source": [
        "IMPORTING THE REQUIRED LIBRARIES"
      ]
    },
    {
      "cell_type": "code",
      "execution_count": null,
      "metadata": {
        "id": "Zt1U0nHGI9U6"
      },
      "outputs": [],
      "source": [
        "import pandas as pd\n",
        "import json\n",
        "import requests\n",
        "from bs4 import BeautifulSoup\n",
        "import base64\n",
        "import os"
      ]
    },
    {
      "cell_type": "raw",
      "metadata": {
        "id": "swVHY-9jI9U7"
      },
      "source": [
        "ACCESS TOKEN TO CONNECT WITH THE GITHUB API"
      ]
    },
    {
      "cell_type": "code",
      "execution_count": null,
      "metadata": {
        "id": "HDatqbbfI9U8"
      },
      "outputs": [],
      "source": [
        "token = \"\""
      ]
    },
    {
      "cell_type": "raw",
      "metadata": {
        "id": "ydnwgf50I9U8"
      },
      "source": [
        "HEADERS USED FOR AUTHENTICATION AND DATA TO DUMP LOAD"
      ]
    },
    {
      "cell_type": "code",
      "execution_count": null,
      "metadata": {
        "id": "McmgLxqLI9U8"
      },
      "outputs": [],
      "source": [
        "headers = {\n",
        "    \"Authorization\" : \"token {}\".format(token),\n",
        "    \"Accept\" : \"application/vnd.github.sailor-v-preview+json\"\n",
        "}"
      ]
    },
    {
      "cell_type": "raw",
      "metadata": {
        "id": "blDVhvH3I9U9"
      },
      "source": [
        "FORKED THE REQUIRED FOREIGN REPOSITORY TO THE PARENT ACCOUNT "
      ]
    },
    {
      "cell_type": "code",
      "execution_count": null,
      "metadata": {
        "id": "VQRhAB8HI9U9"
      },
      "outputs": [],
      "source": [
        "def mod_file(new_file_name, mesg):\n",
        "     with open(new_file_name, \"w\") as f:\n",
        "         f.write(mesg + \"\\n\")"
      ]
    },
    {
      "cell_type": "code",
      "execution_count": null,
      "metadata": {
        "id": "81-YHWbPI9U-"
      },
      "outputs": [],
      "source": [
        "def get_encode(mesg):\n",
        "    st_bytes = mesg.encode(\"ascii\")\n",
        "    bs64 = base64.b64encode(st_bytes)\n",
        "    res = bs64.decode(\"ascii\")\n",
        "    return res"
      ]
    },
    {
      "cell_type": "code",
      "execution_count": null,
      "metadata": {
        "id": "U4KisjOFI9U_"
      },
      "outputs": [],
      "source": [
        "def do_fork(owner, repo):\n",
        "    url = \"https://api.github.com/repos/\" + owner + \"/\" + repo + \"/forks\"\n",
        "    r = requests.post(url,headers=headers)"
      ]
    },
    {
      "cell_type": "raw",
      "metadata": {
        "id": "zRdGaQpDI9U_"
      },
      "source": [
        "UPLOAD A UPDATE FILE TO THE FORKED REPOSITORY AS IN TO BE ABLE TO CREATE A PULL REQUEST TO THE OWNER REPOSITORY"
      ]
    },
    {
      "cell_type": "code",
      "execution_count": null,
      "metadata": {
        "id": "VCK_3zCvI9U_"
      },
      "outputs": [],
      "source": [
        "def upload_file(self_username, repo, new_file_name, msg):\n",
        "    upload_data = {\n",
        "        \"message\" : \"Update File!!\",\n",
        "        \"content\" : msg\n",
        "    }\n",
        "    url = \"https://api.github.com/repos/\" + self_username +\"/\" + repo + \"/contents/\" + new_file_name\n",
        "    requests.put(url,data=json.dumps(upload_data),headers=headers)"
      ]
    },
    {
      "cell_type": "raw",
      "metadata": {
        "id": "OojSYTOmI9VA"
      },
      "source": [
        "MAKE A PULL REQUEST AND STORE THE LINK OF THAT PULL REQUEST"
      ]
    },
    {
      "cell_type": "code",
      "execution_count": null,
      "metadata": {
        "id": "kQ0CZl1LI9VA"
      },
      "outputs": [],
      "source": [
        "def make_pr_and_print(self_username, owner, repo, dep_name, v1, v2, new_file_name):\n",
        "    st1 = \"UPDATE \" + str(dep_name) + \" from \" + str(v1) + \" to \" + str(v2) + \".\"\n",
        "    msg = get_encode(st1)\n",
        "    upload_file(self_username, repo, new_file_name, msg)\n",
        "    mod_file(new_file_name, st1)\n",
        "    st2 = self_username + \":main\"\n",
        "    data= {\n",
        "        \"title\" : \"UPDATE THE GIVEN DEPENDENCY\",\n",
        "        \"body\" : st1 ,\n",
        "        \"head\" : st2,\n",
        "        \"base\" : \"main\"\n",
        "    }\n",
        "    url = \"https://api.github.com/repos/{}/{}/pulls\".format(owner,repo)\n",
        "    requests.post(url,data=json.dumps(data), headers=headers)\n",
        "    r = requests.get(url,data=json.dumps(data), headers=headers)\n",
        "    for i in r.json():\n",
        "        usr_nm = i['head']['label']\n",
        "        usr_ls = usr_nm.split(\":\")\n",
        "        if(usr_ls[0] == self_username):\n",
        "            print(i['_links']['html']['href'])\n",
        "            return i['_links']['html']['href']"
      ]
    },
    {
      "cell_type": "raw",
      "metadata": {
        "id": "NP2JxJ3YI9VB"
      },
      "source": [
        "FUNCTION TO CONVERT VERSION NUMBER INTO BATCHES OF INTEGERS AND STORE THEM IN LIST TO BE ABLE TO COMPARE THEM"
      ]
    },
    {
      "cell_type": "code",
      "execution_count": null,
      "metadata": {
        "id": "XSsA-gV3I9VB"
      },
      "outputs": [],
      "source": [
        "def ver(st):\n",
        "  v_lst = []\n",
        "  temp = 0\n",
        "  for i in range(len(st)):\n",
        "    if(st[i] == \".\"):\n",
        "      v_lst.append(temp)\n",
        "      temp = 0\n",
        "    else:\n",
        "      temp = temp*10 + int(st[i])\n",
        "  return v_lst"
      ]
    },
    {
      "cell_type": "raw",
      "metadata": {
        "id": "jkjwtdjmI9VB"
      },
      "source": [
        "FUNCTION TO COMPARE TO VERSION NUMBER WHICH ARE GIVEN IN THE FORM OF LIST AS INPUT"
      ]
    },
    {
      "cell_type": "code",
      "execution_count": null,
      "metadata": {
        "id": "ZOVTvWpxI9VC"
      },
      "outputs": [],
      "source": [
        "def cmp(ver1, ver2):\n",
        "  if(len(ver1) > len(ver2)):\n",
        "    for i in range(len(ver1) - len(ver2)):\n",
        "      ver2.append(0)\n",
        "  elif(len(ver2) > len(ver1)):\n",
        "    for i in range(len(ver2) - len(ver1)):\n",
        "      ver1.append(0)\n",
        "  for i in range(len(ver1)):\n",
        "    if(ver1[i] > ver2[i]):\n",
        "      return 1\n",
        "    elif(ver2[i] > ver1[i]):\n",
        "      return 0\n",
        "  return 1;"
      ]
    },
    {
      "cell_type": "raw",
      "metadata": {
        "id": "H3cXAK0CI9VC"
      },
      "source": [
        "TAKE THE INPUT FOR THE COMMAND THAT USER NEEDS TO ENTER"
      ]
    },
    {
      "cell_type": "markdown",
      "source": [
        "#Enter the COMMAND"
      ],
      "metadata": {
        "id": "qm9zSwgSJEde"
      }
    },
    {
      "cell_type": "code",
      "execution_count": null,
      "metadata": {
        "id": "KSUf6zR5I9VC",
        "colab": {
          "base_uri": "https://localhost:8080/"
        },
        "outputId": "776122c2-2d97-4b3a-96e5-2d00ed8171fc"
      },
      "outputs": [
        {
          "name": "stdout",
          "output_type": "stream",
          "text": [
            "Enter the commandmyawesometool -update -i input.csv axios@0.23.9\n"
          ]
        }
      ],
      "source": [
        "lst = input(\"Enter the command\").split(\" \")"
      ]
    },
    {
      "cell_type": "raw",
      "metadata": {
        "id": "WBzI3aWwI9VD"
      },
      "source": [
        "CHECK WHETHER USER HAS ENTERED UPGRADE COMMAND OR NOT AND ACCORDINGLY PROCEED"
      ]
    },
    {
      "cell_type": "code",
      "execution_count": null,
      "metadata": {
        "id": "0io2utrWI9VD"
      },
      "outputs": [],
      "source": [
        "update_flag = 0\n",
        "if(lst[1][1] == \"u\"):\n",
        "    update_flag = 1\n",
        "dep = \"\"\n",
        "file_name = \"\"\n",
        "if(update_flag == 1):\n",
        "    file_name = lst[3]\n",
        "    dep = lst[4]\n",
        "else:\n",
        "    file_name = lst[2]\n",
        "    dep = lst[3]\n",
        "dep_lst = dep.split(\"@\")\n",
        "dep_name = dep_lst[0]\n",
        "dep_version = dep_lst[1]\n",
        "version_status = []"
      ]
    },
    {
      "cell_type": "code",
      "execution_count": null,
      "metadata": {
        "id": "l6oSOONDI9VD"
      },
      "outputs": [],
      "source": [
        "best_version = ver(dep_version)"
      ]
    },
    {
      "cell_type": "raw",
      "metadata": {
        "id": "pmdSlboLI9VE"
      },
      "source": [
        "MAKE LIST TO STORE THE OWNER NAME, REPO NAME FOR EACH OF THE INPUT IN THE CSV FILE"
      ]
    },
    {
      "cell_type": "code",
      "execution_count": null,
      "metadata": {
        "id": "KU-HNpezI9VE"
      },
      "outputs": [],
      "source": [
        "owner = []\n",
        "repo = []\n",
        "self_username = \"\"\n",
        "new_file_name = \"mo.txt\""
      ]
    },
    {
      "cell_type": "code",
      "execution_count": null,
      "metadata": {
        "id": "P5D86Q7WI9VE",
        "outputId": "d8e4242d-69a6-47ce-a6e8-18c39f865fe9",
        "colab": {
          "base_uri": "https://localhost:8080/",
          "height": 143
        }
      },
      "outputs": [
        {
          "output_type": "execute_result",
          "data": {
            "text/plain": [
              "                      name                                              repo\n",
              "0    dyte-react-sample-app      https://github.com/dyte-in/react-sample-app/\n",
              "1       dyte-js-sample-app  https://github.com/dyte-in/javascript-sample-app\n",
              "2  dyte-sample-app-backend     https://github.com/dyte-in/backend-sample-app"
            ],
            "text/html": [
              "\n",
              "  <div id=\"df-877db40a-d5e3-4089-83a7-4f769bd29c65\">\n",
              "    <div class=\"colab-df-container\">\n",
              "      <div>\n",
              "<style scoped>\n",
              "    .dataframe tbody tr th:only-of-type {\n",
              "        vertical-align: middle;\n",
              "    }\n",
              "\n",
              "    .dataframe tbody tr th {\n",
              "        vertical-align: top;\n",
              "    }\n",
              "\n",
              "    .dataframe thead th {\n",
              "        text-align: right;\n",
              "    }\n",
              "</style>\n",
              "<table border=\"1\" class=\"dataframe\">\n",
              "  <thead>\n",
              "    <tr style=\"text-align: right;\">\n",
              "      <th></th>\n",
              "      <th>name</th>\n",
              "      <th>repo</th>\n",
              "    </tr>\n",
              "  </thead>\n",
              "  <tbody>\n",
              "    <tr>\n",
              "      <th>0</th>\n",
              "      <td>dyte-react-sample-app</td>\n",
              "      <td>https://github.com/dyte-in/react-sample-app/</td>\n",
              "    </tr>\n",
              "    <tr>\n",
              "      <th>1</th>\n",
              "      <td>dyte-js-sample-app</td>\n",
              "      <td>https://github.com/dyte-in/javascript-sample-app</td>\n",
              "    </tr>\n",
              "    <tr>\n",
              "      <th>2</th>\n",
              "      <td>dyte-sample-app-backend</td>\n",
              "      <td>https://github.com/dyte-in/backend-sample-app</td>\n",
              "    </tr>\n",
              "  </tbody>\n",
              "</table>\n",
              "</div>\n",
              "      <button class=\"colab-df-convert\" onclick=\"convertToInteractive('df-877db40a-d5e3-4089-83a7-4f769bd29c65')\"\n",
              "              title=\"Convert this dataframe to an interactive table.\"\n",
              "              style=\"display:none;\">\n",
              "        \n",
              "  <svg xmlns=\"http://www.w3.org/2000/svg\" height=\"24px\"viewBox=\"0 0 24 24\"\n",
              "       width=\"24px\">\n",
              "    <path d=\"M0 0h24v24H0V0z\" fill=\"none\"/>\n",
              "    <path d=\"M18.56 5.44l.94 2.06.94-2.06 2.06-.94-2.06-.94-.94-2.06-.94 2.06-2.06.94zm-11 1L8.5 8.5l.94-2.06 2.06-.94-2.06-.94L8.5 2.5l-.94 2.06-2.06.94zm10 10l.94 2.06.94-2.06 2.06-.94-2.06-.94-.94-2.06-.94 2.06-2.06.94z\"/><path d=\"M17.41 7.96l-1.37-1.37c-.4-.4-.92-.59-1.43-.59-.52 0-1.04.2-1.43.59L10.3 9.45l-7.72 7.72c-.78.78-.78 2.05 0 2.83L4 21.41c.39.39.9.59 1.41.59.51 0 1.02-.2 1.41-.59l7.78-7.78 2.81-2.81c.8-.78.8-2.07 0-2.86zM5.41 20L4 18.59l7.72-7.72 1.47 1.35L5.41 20z\"/>\n",
              "  </svg>\n",
              "      </button>\n",
              "      \n",
              "  <style>\n",
              "    .colab-df-container {\n",
              "      display:flex;\n",
              "      flex-wrap:wrap;\n",
              "      gap: 12px;\n",
              "    }\n",
              "\n",
              "    .colab-df-convert {\n",
              "      background-color: #E8F0FE;\n",
              "      border: none;\n",
              "      border-radius: 50%;\n",
              "      cursor: pointer;\n",
              "      display: none;\n",
              "      fill: #1967D2;\n",
              "      height: 32px;\n",
              "      padding: 0 0 0 0;\n",
              "      width: 32px;\n",
              "    }\n",
              "\n",
              "    .colab-df-convert:hover {\n",
              "      background-color: #E2EBFA;\n",
              "      box-shadow: 0px 1px 2px rgba(60, 64, 67, 0.3), 0px 1px 3px 1px rgba(60, 64, 67, 0.15);\n",
              "      fill: #174EA6;\n",
              "    }\n",
              "\n",
              "    [theme=dark] .colab-df-convert {\n",
              "      background-color: #3B4455;\n",
              "      fill: #D2E3FC;\n",
              "    }\n",
              "\n",
              "    [theme=dark] .colab-df-convert:hover {\n",
              "      background-color: #434B5C;\n",
              "      box-shadow: 0px 1px 3px 1px rgba(0, 0, 0, 0.15);\n",
              "      filter: drop-shadow(0px 1px 2px rgba(0, 0, 0, 0.3));\n",
              "      fill: #FFFFFF;\n",
              "    }\n",
              "  </style>\n",
              "\n",
              "      <script>\n",
              "        const buttonEl =\n",
              "          document.querySelector('#df-877db40a-d5e3-4089-83a7-4f769bd29c65 button.colab-df-convert');\n",
              "        buttonEl.style.display =\n",
              "          google.colab.kernel.accessAllowed ? 'block' : 'none';\n",
              "\n",
              "        async function convertToInteractive(key) {\n",
              "          const element = document.querySelector('#df-877db40a-d5e3-4089-83a7-4f769bd29c65');\n",
              "          const dataTable =\n",
              "            await google.colab.kernel.invokeFunction('convertToInteractive',\n",
              "                                                     [key], {});\n",
              "          if (!dataTable) return;\n",
              "\n",
              "          const docLinkHtml = 'Like what you see? Visit the ' +\n",
              "            '<a target=\"_blank\" href=https://colab.research.google.com/notebooks/data_table.ipynb>data table notebook</a>'\n",
              "            + ' to learn more about interactive tables.';\n",
              "          element.innerHTML = '';\n",
              "          dataTable['output_type'] = 'display_data';\n",
              "          await google.colab.output.renderOutput(dataTable, element);\n",
              "          const docLink = document.createElement('div');\n",
              "          docLink.innerHTML = docLinkHtml;\n",
              "          element.appendChild(docLink);\n",
              "        }\n",
              "      </script>\n",
              "    </div>\n",
              "  </div>\n",
              "  "
            ]
          },
          "metadata": {},
          "execution_count": 21
        }
      ],
      "source": [
        "df = pd.read_csv(file_name)\n",
        "df"
      ]
    },
    {
      "cell_type": "raw",
      "metadata": {
        "id": "VvgQVUY_I9VE"
      },
      "source": [
        "FETCH THE CONTENTS OF THE 'PACKAGE.JSON' FILE FROM GITHUB USING GITHUB API"
      ]
    },
    {
      "cell_type": "code",
      "execution_count": null,
      "metadata": {
        "id": "XWAvgpDpI9VF"
      },
      "outputs": [],
      "source": [
        "def github_read_file(username, repository_name, file_path, github_token=None):\n",
        "    headers = {}\n",
        "    if github_token:\n",
        "        headers['Authorization'] = f\"token {github_token}\"      \n",
        "    url = f'https://api.github.com/repos/{username}/{repository_name}/contents/{file_path}'\n",
        "    r = requests.get(url, headers=headers)\n",
        "    r.raise_for_status()\n",
        "    data = r.json()\n",
        "    file_content = data['content']\n",
        "    file_content_encoding = data.get('encoding')\n",
        "    if file_content_encoding == 'base64':\n",
        "        file_content = base64.b64decode(file_content).decode()\n",
        "    return file_content\n",
        "def scrape(github_token, username, repository_name, file_path):\n",
        "    file_content = github_read_file(username, repository_name, file_path, github_token=github_token)\n",
        "    data = json.loads(file_content)\n",
        "    return data['dependencies'][dep_name][1:]"
      ]
    },
    {
      "cell_type": "raw",
      "metadata": {
        "id": "m4iPuRKwI9VF"
      },
      "source": [
        "COMMENTED FUNCTION TO SCRAPE THE BEST VERSION FROM THE OFFICIAL WEBSITE OF NODE NPM PACKAGES AND ACCORDINGLY PROCEED"
      ]
    },
    {
      "cell_type": "code",
      "execution_count": null,
      "metadata": {
        "id": "RvhhEwllI9VF"
      },
      "outputs": [],
      "source": [
        "repo_version = []\n",
        "link = []\n",
        "cnt = 0\n",
        "file_path = 'package.json'\n",
        "for i in df['repo']:\n",
        "    link.append(i)\n",
        "    cnt += 1\n",
        "    tmp = i.split(\"/\")\n",
        "    owner.append(tmp[3])\n",
        "    repo.append(tmp[4])"
      ]
    },
    {
      "cell_type": "code",
      "execution_count": null,
      "metadata": {
        "id": "7zS7ltitI9VF"
      },
      "outputs": [],
      "source": [
        "for i in range(cnt):\n",
        "    repo_version.append(scrape(token, owner[i], repo[i], file_path))"
      ]
    },
    {
      "cell_type": "code",
      "execution_count": null,
      "metadata": {
        "id": "I1HQB-uJI9VF",
        "outputId": "ab3dd113-9015-45cf-988e-742c22c612ab",
        "colab": {
          "base_uri": "https://localhost:8080/"
        }
      },
      "outputs": [
        {
          "output_type": "execute_result",
          "data": {
            "text/plain": [
              "['0.24.0', '0.21.1', '0.23.0']"
            ]
          },
          "metadata": {},
          "execution_count": 25
        }
      ],
      "source": [
        "repo_version"
      ]
    },
    {
      "cell_type": "raw",
      "metadata": {
        "id": "0npHc0DoI9VF"
      },
      "source": [
        "COMPARE EACH OF THE VERSION NUMBER WITH THE INPUT VERSION NUMBER TO DECIDE THE STAUS OF THE DEPENDENCY"
      ]
    },
    {
      "cell_type": "code",
      "execution_count": null,
      "metadata": {
        "id": "HnwZwUT1I9VG"
      },
      "outputs": [],
      "source": [
        "version_status = []\n",
        "for i in range(len(repo_version)):\n",
        "  v1 = ver(repo_version[i])\n",
        "  if(cmp(v1, best_version) == 0):\n",
        "    version_status.append(\"false\")\n",
        "  else:\n",
        "    version_status.append(\"true\")"
      ]
    },
    {
      "cell_type": "code",
      "execution_count": null,
      "metadata": {
        "id": "pkl8yoHZI9VG",
        "outputId": "66a0bfe8-4ff9-40dd-e25b-930910121d2c",
        "colab": {
          "base_uri": "https://localhost:8080/"
        }
      },
      "outputs": [
        {
          "output_type": "execute_result",
          "data": {
            "text/plain": [
              "['true', 'false', 'true']"
            ]
          },
          "metadata": {},
          "execution_count": 27
        }
      ],
      "source": [
        "version_status"
      ]
    },
    {
      "cell_type": "raw",
      "metadata": {
        "id": "AuL10l2EI9VG"
      },
      "source": [
        "MAKE 2 COLUMNS FOR VERSION & VERSION_SATISFIED IN THE OUTPUT CSV FILE"
      ]
    },
    {
      "cell_type": "code",
      "execution_count": null,
      "metadata": {
        "id": "oaoAd16oI9VG"
      },
      "outputs": [],
      "source": [
        "df['version'] = repo_version\n",
        "df['version_satisfied'] = version_status"
      ]
    },
    {
      "cell_type": "code",
      "execution_count": null,
      "metadata": {
        "id": "6pOU7BNsI9VG",
        "outputId": "1cd021c1-6e48-4490-fe5c-498bcca2b0d1",
        "colab": {
          "base_uri": "https://localhost:8080/",
          "height": 143
        }
      },
      "outputs": [
        {
          "output_type": "execute_result",
          "data": {
            "text/plain": [
              "                      name                                              repo  \\\n",
              "0    dyte-react-sample-app      https://github.com/dyte-in/react-sample-app/   \n",
              "1       dyte-js-sample-app  https://github.com/dyte-in/javascript-sample-app   \n",
              "2  dyte-sample-app-backend     https://github.com/dyte-in/backend-sample-app   \n",
              "\n",
              "  version version_satisfied  \n",
              "0  0.24.0              true  \n",
              "1  0.21.1             false  \n",
              "2  0.23.0              true  "
            ],
            "text/html": [
              "\n",
              "  <div id=\"df-ef2086e6-1883-4a14-b413-efe49ed89817\">\n",
              "    <div class=\"colab-df-container\">\n",
              "      <div>\n",
              "<style scoped>\n",
              "    .dataframe tbody tr th:only-of-type {\n",
              "        vertical-align: middle;\n",
              "    }\n",
              "\n",
              "    .dataframe tbody tr th {\n",
              "        vertical-align: top;\n",
              "    }\n",
              "\n",
              "    .dataframe thead th {\n",
              "        text-align: right;\n",
              "    }\n",
              "</style>\n",
              "<table border=\"1\" class=\"dataframe\">\n",
              "  <thead>\n",
              "    <tr style=\"text-align: right;\">\n",
              "      <th></th>\n",
              "      <th>name</th>\n",
              "      <th>repo</th>\n",
              "      <th>version</th>\n",
              "      <th>version_satisfied</th>\n",
              "    </tr>\n",
              "  </thead>\n",
              "  <tbody>\n",
              "    <tr>\n",
              "      <th>0</th>\n",
              "      <td>dyte-react-sample-app</td>\n",
              "      <td>https://github.com/dyte-in/react-sample-app/</td>\n",
              "      <td>0.24.0</td>\n",
              "      <td>true</td>\n",
              "    </tr>\n",
              "    <tr>\n",
              "      <th>1</th>\n",
              "      <td>dyte-js-sample-app</td>\n",
              "      <td>https://github.com/dyte-in/javascript-sample-app</td>\n",
              "      <td>0.21.1</td>\n",
              "      <td>false</td>\n",
              "    </tr>\n",
              "    <tr>\n",
              "      <th>2</th>\n",
              "      <td>dyte-sample-app-backend</td>\n",
              "      <td>https://github.com/dyte-in/backend-sample-app</td>\n",
              "      <td>0.23.0</td>\n",
              "      <td>true</td>\n",
              "    </tr>\n",
              "  </tbody>\n",
              "</table>\n",
              "</div>\n",
              "      <button class=\"colab-df-convert\" onclick=\"convertToInteractive('df-ef2086e6-1883-4a14-b413-efe49ed89817')\"\n",
              "              title=\"Convert this dataframe to an interactive table.\"\n",
              "              style=\"display:none;\">\n",
              "        \n",
              "  <svg xmlns=\"http://www.w3.org/2000/svg\" height=\"24px\"viewBox=\"0 0 24 24\"\n",
              "       width=\"24px\">\n",
              "    <path d=\"M0 0h24v24H0V0z\" fill=\"none\"/>\n",
              "    <path d=\"M18.56 5.44l.94 2.06.94-2.06 2.06-.94-2.06-.94-.94-2.06-.94 2.06-2.06.94zm-11 1L8.5 8.5l.94-2.06 2.06-.94-2.06-.94L8.5 2.5l-.94 2.06-2.06.94zm10 10l.94 2.06.94-2.06 2.06-.94-2.06-.94-.94-2.06-.94 2.06-2.06.94z\"/><path d=\"M17.41 7.96l-1.37-1.37c-.4-.4-.92-.59-1.43-.59-.52 0-1.04.2-1.43.59L10.3 9.45l-7.72 7.72c-.78.78-.78 2.05 0 2.83L4 21.41c.39.39.9.59 1.41.59.51 0 1.02-.2 1.41-.59l7.78-7.78 2.81-2.81c.8-.78.8-2.07 0-2.86zM5.41 20L4 18.59l7.72-7.72 1.47 1.35L5.41 20z\"/>\n",
              "  </svg>\n",
              "      </button>\n",
              "      \n",
              "  <style>\n",
              "    .colab-df-container {\n",
              "      display:flex;\n",
              "      flex-wrap:wrap;\n",
              "      gap: 12px;\n",
              "    }\n",
              "\n",
              "    .colab-df-convert {\n",
              "      background-color: #E8F0FE;\n",
              "      border: none;\n",
              "      border-radius: 50%;\n",
              "      cursor: pointer;\n",
              "      display: none;\n",
              "      fill: #1967D2;\n",
              "      height: 32px;\n",
              "      padding: 0 0 0 0;\n",
              "      width: 32px;\n",
              "    }\n",
              "\n",
              "    .colab-df-convert:hover {\n",
              "      background-color: #E2EBFA;\n",
              "      box-shadow: 0px 1px 2px rgba(60, 64, 67, 0.3), 0px 1px 3px 1px rgba(60, 64, 67, 0.15);\n",
              "      fill: #174EA6;\n",
              "    }\n",
              "\n",
              "    [theme=dark] .colab-df-convert {\n",
              "      background-color: #3B4455;\n",
              "      fill: #D2E3FC;\n",
              "    }\n",
              "\n",
              "    [theme=dark] .colab-df-convert:hover {\n",
              "      background-color: #434B5C;\n",
              "      box-shadow: 0px 1px 3px 1px rgba(0, 0, 0, 0.15);\n",
              "      filter: drop-shadow(0px 1px 2px rgba(0, 0, 0, 0.3));\n",
              "      fill: #FFFFFF;\n",
              "    }\n",
              "  </style>\n",
              "\n",
              "      <script>\n",
              "        const buttonEl =\n",
              "          document.querySelector('#df-ef2086e6-1883-4a14-b413-efe49ed89817 button.colab-df-convert');\n",
              "        buttonEl.style.display =\n",
              "          google.colab.kernel.accessAllowed ? 'block' : 'none';\n",
              "\n",
              "        async function convertToInteractive(key) {\n",
              "          const element = document.querySelector('#df-ef2086e6-1883-4a14-b413-efe49ed89817');\n",
              "          const dataTable =\n",
              "            await google.colab.kernel.invokeFunction('convertToInteractive',\n",
              "                                                     [key], {});\n",
              "          if (!dataTable) return;\n",
              "\n",
              "          const docLinkHtml = 'Like what you see? Visit the ' +\n",
              "            '<a target=\"_blank\" href=https://colab.research.google.com/notebooks/data_table.ipynb>data table notebook</a>'\n",
              "            + ' to learn more about interactive tables.';\n",
              "          element.innerHTML = '';\n",
              "          dataTable['output_type'] = 'display_data';\n",
              "          await google.colab.output.renderOutput(dataTable, element);\n",
              "          const docLink = document.createElement('div');\n",
              "          docLink.innerHTML = docLinkHtml;\n",
              "          element.appendChild(docLink);\n",
              "        }\n",
              "      </script>\n",
              "    </div>\n",
              "  </div>\n",
              "  "
            ]
          },
          "metadata": {},
          "execution_count": 29
        }
      ],
      "source": [
        "df_first = df\n",
        "df_first"
      ]
    },
    {
      "cell_type": "code",
      "execution_count": null,
      "metadata": {
        "id": "wcU07Jy2I9VH"
      },
      "outputs": [],
      "source": [
        "df_first.to_csv('first.csv')"
      ]
    },
    {
      "cell_type": "raw",
      "metadata": {
        "id": "p_yne-AJI9VH"
      },
      "source": [
        "IF THE USER HS ENTERED UPGRADE COMMAND THEN WE WILL DO THE FOLLOWING STEPS TO SUCCESSFULLY MAKE A PULL REQUEST FOR EACH OF THE CASE WHERE THE VERSION_STATUS IS FALSE"
      ]
    },
    {
      "cell_type": "raw",
      "metadata": {
        "id": "aZhzLJoII9VH"
      },
      "source": [
        "MAKE THE PR LINK COLUMN TO BE ADDED TO THE FINAL OUTPUT CSV FILE"
      ]
    },
    {
      "cell_type": "code",
      "execution_count": null,
      "metadata": {
        "id": "fLYH3GEbI9VH",
        "outputId": "4688e193-939e-430c-a9c7-941418a110c3",
        "colab": {
          "base_uri": "https://localhost:8080/"
        }
      },
      "outputs": [
        {
          "output_type": "stream",
          "name": "stdout",
          "text": [
            "https://github.com/dyte-in/javascript-sample-app/pull/341\n"
          ]
        }
      ],
      "source": [
        "if(update_flag == 1):\n",
        "    pr_link = []\n",
        "    for i in range(cnt):\n",
        "        if(version_status[i] == \"false\"):\n",
        "            do_fork(owner[i], repo[i])\n",
        "#             upload_file(self_username, repo[i], new_file_name)\n",
        "            pr_link.append(make_pr_and_print(self_username, owner[i], repo[i], dep_name, repo_version[i], dep_version, new_file_name))\n",
        "        else:\n",
        "            pr_link.append(\"\")\n",
        "    df['update_pr'] = pr_link\n",
        "    df_second = df\n",
        "    df_second\n",
        "    df_second.to_csv('upgrade.csv')"
      ]
    },
    {
      "cell_type": "code",
      "execution_count": null,
      "metadata": {
        "id": "oqFSwehUI9VH",
        "outputId": "4560002c-79b4-4539-b922-7066b865ac32",
        "colab": {
          "base_uri": "https://localhost:8080/",
          "height": 143
        }
      },
      "outputs": [
        {
          "output_type": "execute_result",
          "data": {
            "text/plain": [
              "                      name                                              repo  \\\n",
              "0    dyte-react-sample-app      https://github.com/dyte-in/react-sample-app/   \n",
              "1       dyte-js-sample-app  https://github.com/dyte-in/javascript-sample-app   \n",
              "2  dyte-sample-app-backend     https://github.com/dyte-in/backend-sample-app   \n",
              "\n",
              "  version version_satisfied                                          update_pr  \n",
              "0  0.24.0              true                                                     \n",
              "1  0.21.1             false  https://github.com/dyte-in/javascript-sample-a...  \n",
              "2  0.23.0              true                                                     "
            ],
            "text/html": [
              "\n",
              "  <div id=\"df-c365fd52-6ad5-4b79-bc9f-fa39e04f58e4\">\n",
              "    <div class=\"colab-df-container\">\n",
              "      <div>\n",
              "<style scoped>\n",
              "    .dataframe tbody tr th:only-of-type {\n",
              "        vertical-align: middle;\n",
              "    }\n",
              "\n",
              "    .dataframe tbody tr th {\n",
              "        vertical-align: top;\n",
              "    }\n",
              "\n",
              "    .dataframe thead th {\n",
              "        text-align: right;\n",
              "    }\n",
              "</style>\n",
              "<table border=\"1\" class=\"dataframe\">\n",
              "  <thead>\n",
              "    <tr style=\"text-align: right;\">\n",
              "      <th></th>\n",
              "      <th>name</th>\n",
              "      <th>repo</th>\n",
              "      <th>version</th>\n",
              "      <th>version_satisfied</th>\n",
              "      <th>update_pr</th>\n",
              "    </tr>\n",
              "  </thead>\n",
              "  <tbody>\n",
              "    <tr>\n",
              "      <th>0</th>\n",
              "      <td>dyte-react-sample-app</td>\n",
              "      <td>https://github.com/dyte-in/react-sample-app/</td>\n",
              "      <td>0.24.0</td>\n",
              "      <td>true</td>\n",
              "      <td></td>\n",
              "    </tr>\n",
              "    <tr>\n",
              "      <th>1</th>\n",
              "      <td>dyte-js-sample-app</td>\n",
              "      <td>https://github.com/dyte-in/javascript-sample-app</td>\n",
              "      <td>0.21.1</td>\n",
              "      <td>false</td>\n",
              "      <td>https://github.com/dyte-in/javascript-sample-a...</td>\n",
              "    </tr>\n",
              "    <tr>\n",
              "      <th>2</th>\n",
              "      <td>dyte-sample-app-backend</td>\n",
              "      <td>https://github.com/dyte-in/backend-sample-app</td>\n",
              "      <td>0.23.0</td>\n",
              "      <td>true</td>\n",
              "      <td></td>\n",
              "    </tr>\n",
              "  </tbody>\n",
              "</table>\n",
              "</div>\n",
              "      <button class=\"colab-df-convert\" onclick=\"convertToInteractive('df-c365fd52-6ad5-4b79-bc9f-fa39e04f58e4')\"\n",
              "              title=\"Convert this dataframe to an interactive table.\"\n",
              "              style=\"display:none;\">\n",
              "        \n",
              "  <svg xmlns=\"http://www.w3.org/2000/svg\" height=\"24px\"viewBox=\"0 0 24 24\"\n",
              "       width=\"24px\">\n",
              "    <path d=\"M0 0h24v24H0V0z\" fill=\"none\"/>\n",
              "    <path d=\"M18.56 5.44l.94 2.06.94-2.06 2.06-.94-2.06-.94-.94-2.06-.94 2.06-2.06.94zm-11 1L8.5 8.5l.94-2.06 2.06-.94-2.06-.94L8.5 2.5l-.94 2.06-2.06.94zm10 10l.94 2.06.94-2.06 2.06-.94-2.06-.94-.94-2.06-.94 2.06-2.06.94z\"/><path d=\"M17.41 7.96l-1.37-1.37c-.4-.4-.92-.59-1.43-.59-.52 0-1.04.2-1.43.59L10.3 9.45l-7.72 7.72c-.78.78-.78 2.05 0 2.83L4 21.41c.39.39.9.59 1.41.59.51 0 1.02-.2 1.41-.59l7.78-7.78 2.81-2.81c.8-.78.8-2.07 0-2.86zM5.41 20L4 18.59l7.72-7.72 1.47 1.35L5.41 20z\"/>\n",
              "  </svg>\n",
              "      </button>\n",
              "      \n",
              "  <style>\n",
              "    .colab-df-container {\n",
              "      display:flex;\n",
              "      flex-wrap:wrap;\n",
              "      gap: 12px;\n",
              "    }\n",
              "\n",
              "    .colab-df-convert {\n",
              "      background-color: #E8F0FE;\n",
              "      border: none;\n",
              "      border-radius: 50%;\n",
              "      cursor: pointer;\n",
              "      display: none;\n",
              "      fill: #1967D2;\n",
              "      height: 32px;\n",
              "      padding: 0 0 0 0;\n",
              "      width: 32px;\n",
              "    }\n",
              "\n",
              "    .colab-df-convert:hover {\n",
              "      background-color: #E2EBFA;\n",
              "      box-shadow: 0px 1px 2px rgba(60, 64, 67, 0.3), 0px 1px 3px 1px rgba(60, 64, 67, 0.15);\n",
              "      fill: #174EA6;\n",
              "    }\n",
              "\n",
              "    [theme=dark] .colab-df-convert {\n",
              "      background-color: #3B4455;\n",
              "      fill: #D2E3FC;\n",
              "    }\n",
              "\n",
              "    [theme=dark] .colab-df-convert:hover {\n",
              "      background-color: #434B5C;\n",
              "      box-shadow: 0px 1px 3px 1px rgba(0, 0, 0, 0.15);\n",
              "      filter: drop-shadow(0px 1px 2px rgba(0, 0, 0, 0.3));\n",
              "      fill: #FFFFFF;\n",
              "    }\n",
              "  </style>\n",
              "\n",
              "      <script>\n",
              "        const buttonEl =\n",
              "          document.querySelector('#df-c365fd52-6ad5-4b79-bc9f-fa39e04f58e4 button.colab-df-convert');\n",
              "        buttonEl.style.display =\n",
              "          google.colab.kernel.accessAllowed ? 'block' : 'none';\n",
              "\n",
              "        async function convertToInteractive(key) {\n",
              "          const element = document.querySelector('#df-c365fd52-6ad5-4b79-bc9f-fa39e04f58e4');\n",
              "          const dataTable =\n",
              "            await google.colab.kernel.invokeFunction('convertToInteractive',\n",
              "                                                     [key], {});\n",
              "          if (!dataTable) return;\n",
              "\n",
              "          const docLinkHtml = 'Like what you see? Visit the ' +\n",
              "            '<a target=\"_blank\" href=https://colab.research.google.com/notebooks/data_table.ipynb>data table notebook</a>'\n",
              "            + ' to learn more about interactive tables.';\n",
              "          element.innerHTML = '';\n",
              "          dataTable['output_type'] = 'display_data';\n",
              "          await google.colab.output.renderOutput(dataTable, element);\n",
              "          const docLink = document.createElement('div');\n",
              "          docLink.innerHTML = docLinkHtml;\n",
              "          element.appendChild(docLink);\n",
              "        }\n",
              "      </script>\n",
              "    </div>\n",
              "  </div>\n",
              "  "
            ]
          },
          "metadata": {},
          "execution_count": 32
        }
      ],
      "source": [
        "#df_second"
      ]
    },
    {
      "cell_type": "code",
      "source": [
        ""
      ],
      "metadata": {
        "id": "6iwqhGV1r0kV"
      },
      "execution_count": null,
      "outputs": []
    }
  ],
  "metadata": {
    "kernelspec": {
      "display_name": "Python 3",
      "language": "python",
      "name": "python3"
    },
    "language_info": {
      "codemirror_mode": {
        "name": "ipython",
        "version": 3
      },
      "file_extension": ".py",
      "mimetype": "text/x-python",
      "name": "python",
      "nbconvert_exporter": "python",
      "pygments_lexer": "ipython3",
      "version": "3.7.4"
    },
    "colab": {
      "name": "dyte_main.ipynb",
      "provenance": [],
      "collapsed_sections": []
    }
  },
  "nbformat": 4,
  "nbformat_minor": 0
}
